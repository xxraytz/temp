{
 "cells": [
  {
   "cell_type": "code",
   "execution_count": 1,
   "id": "caa187b88a640e21",
   "metadata": {
    "ExecuteTime": {
     "end_time": "2023-09-21T12:35:53.309735Z",
     "start_time": "2023-09-21T12:35:52.959478Z"
    },
    "collapsed": false
   },
   "outputs": [],
   "source": [
    "import os\n",
    "\n",
    "import numpy as np\n",
    "import json\n",
    "import pandas as pd"
   ]
  },
  {
   "cell_type": "code",
   "execution_count": 2,
   "id": "initial_id",
   "metadata": {
    "ExecuteTime": {
     "end_time": "2023-09-21T12:35:54.947411Z",
     "start_time": "2023-09-21T12:35:53.309610Z"
    },
    "collapsed": true
   },
   "outputs": [
    {
     "name": "stderr",
     "output_type": "stream",
     "text": [
      "2023-09-21 15:35:53.355450: I tensorflow/core/util/util.cc:169] oneDNN custom operations are on. You may see slightly different numerical results due to floating-point round-off errors from different computation orders. To turn them off, set the environment variable `TF_ENABLE_ONEDNN_OPTS=0`.\n"
     ]
    }
   ],
   "source": [
    "import tensorflow as tf\n",
    "from tensorflow import keras\n",
    "from keras.optimizers import Adam\n",
    "from keras.models import Model\n",
    "from keras.layers import (Input, Conv2D, ReLU, BatchNormalization, Add, GlobalAvgPool2D,\n",
    "                          Dense, Multiply, ZeroPadding2D, MaxPooling2D, AveragePooling2D, Flatten)\n",
    "from core.learning_tools import F1CombineMetric as F1_comb\n",
    "from core.learning_tools import get_resnet50_model, f1_comb\n",
    "from sklearn.metrics import confusion_matrix\n",
    "from keras.callbacks import Callback\n",
    "from keras.models import load_model\n",
    "from keras.initializers import glorot_uniform\n",
    "from core.learning_tools import ImageDataGenerator, send_telegram_msg"
   ]
  },
  {
   "cell_type": "code",
   "execution_count": 3,
   "id": "ece3b1a187afa796",
   "metadata": {
    "ExecuteTime": {
     "end_time": "2023-09-21T12:35:54.970149Z",
     "start_time": "2023-09-21T12:35:54.947294Z"
    },
    "collapsed": false
   },
   "outputs": [],
   "source": [
    "np.set_printoptions(suppress=True)"
   ]
  },
  {
   "cell_type": "code",
   "execution_count": 4,
   "id": "5f1d2e6c70b0a627",
   "metadata": {
    "ExecuteTime": {
     "end_time": "2023-09-21T12:35:55.286088Z",
     "start_time": "2023-09-21T12:35:54.960602Z"
    },
    "collapsed": false
   },
   "outputs": [],
   "source": [
    "physical_devices = tf.config.list_physical_devices('GPU')\n",
    "visible_devices = [physical_devices[2]]  # , physical_devices[1]\n",
    "tf.config.set_visible_devices(visible_devices, 'GPU')"
   ]
  },
  {
   "cell_type": "code",
   "execution_count": 1,
   "id": "99c7a05807ca0a23",
   "metadata": {
    "ExecuteTime": {
     "end_time": "2023-09-21T20:27:21.994157Z",
     "start_time": "2023-09-21T20:27:21.965742Z"
    },
    "collapsed": false
   },
   "outputs": [],
   "source": [
    "target_classes = ['standing', 'walking', 'no_class']\n"
   ]
  },
  {
   "cell_type": "code",
   "execution_count": 110,
   "id": "568397a50559dc33",
   "metadata": {
    "ExecuteTime": {
     "end_time": "2023-09-21T20:01:28.066363Z",
     "start_time": "2023-09-21T20:01:28.063836Z"
    },
    "collapsed": false
   },
   "outputs": [],
   "source": [
    "class DebugMetricCallback(Callback):\n",
    "    def __init__(self, test, metr):\n",
    "        super().__init__()\n",
    "        self.test = test\n",
    "        self.metric = metr\n",
    "\n",
    "\n",
    "    def on_epoch_end(self, epoch, logs=None):\n",
    "        print(self.metric.result())\n",
    "        x, y = self.test\n",
    "        y_pred = self.model.predict(x)\n",
    "        inline_measure = MulticlassF1(num_classes=3)\n",
    "        inline_measure.update_state(y, y_pred)\n",
    "        print(self.metric.result().numpy(), inline_measure.result().numpy())\n",
    "        \n",
    "        eval_result = self.model.evaluate(x, y, verbose=0)\n",
    "        print(\"Evaluation result:\", eval_result)\n"
   ]
  },
  {
   "cell_type": "code",
   "execution_count": 112,
   "id": "fd87f831760bdf8a",
   "metadata": {
    "ExecuteTime": {
     "end_time": "2023-09-21T20:01:29.367108Z",
     "start_time": "2023-09-21T20:01:29.359963Z"
    },
    "collapsed": false
   },
   "outputs": [],
   "source": [
    "class MulticlassF1(tf.keras.metrics.Metric):\n",
    "\n",
    "    def __init__(self, name='mc_f1', num_classes=None, **kwargs):\n",
    "        super(MulticlassF1, self).__init__(name=name, **kwargs)\n",
    "        self.__zero_support = tf.cast(1e-7, dtype=tf.float16)\n",
    "        self.__cm = self.add_weight(name='fn', initializer='zeros', shape=[num_classes, num_classes])\n",
    "        if num_classes is not None:\n",
    "            self.__num_classes = num_classes\n",
    "\n",
    "    def update_state(self, y_true, y_pred, sample_weight=None):\n",
    "        y_pred = K.argmax(y_pred, axis=1)\n",
    "        y_true = K.argmax(y_true, axis=1)\n",
    "        m = tf.math.confusion_matrix(y_true, y_pred, num_classes=self.__num_classes, dtype=tf.float32)\n",
    "        self.__cm.assign_add(m)\n",
    "\n",
    "    def reset_state(self):\n",
    "        self.__cm.assign(tf.zeros((self.__num_classes, self.__num_classes)))\n",
    "\n",
    "    def result(self):\n",
    "        denominator = 0\n",
    "        m = self.__cm\n",
    "        for i in range(m.shape[0]):\n",
    "            tp = m[i, i]\n",
    "            fn = K.sum(m[:, i]) - tp\n",
    "            fp = K.sum(m[i, :]) - tp\n",
    "            tn = K.sum(K.flatten(m)) - (tp + fn + fp)\n",
    "            tp = K.cast(tp, dtype=tf.float16)\n",
    "            tn = K.cast(tn, dtype=tf.float16)\n",
    "            fp = K.cast(fp, dtype=tf.float16)\n",
    "            fn = K.cast(fn, dtype=tf.float16)\n",
    "            precision = tp / ((tp + fp) + self.__zero_support) + self.__zero_support\n",
    "            recall = tp / (tf.cast(tp + fn, dtype=tf.float16) + self.__zero_support) + self.__zero_support\n",
    "            denominator += (1 / precision + 1 / recall)\n",
    "        f1_combined = K.cast(2 * m.shape[0] / denominator, dtype=tf.float32)\n",
    "        return f1_combined"
   ]
  },
  {
   "cell_type": "code",
   "execution_count": 120,
   "id": "f8ab9b3d32a9e3d0",
   "metadata": {
    "ExecuteTime": {
     "end_time": "2023-09-21T20:01:31.710953Z",
     "start_time": "2023-09-21T20:01:30.938672Z"
    },
    "collapsed": false
   },
   "outputs": [],
   "source": [
    "mcf1 = MulticlassF1(num_classes=3)\n",
    "\n",
    "resnet50 = get_resnet50_model([32, 32, 3], 3)\n",
    "resnet50.compile(\n",
    "    optimizer=Adam(),\n",
    "    loss=tf.keras.losses.CategoricalCrossentropy(),\n",
    "    metrics=[tf.metrics.AUC(name='auc'), mcf1],\n",
    ")"
   ]
  },
  {
   "cell_type": "code",
   "execution_count": null,
   "id": "9f933670a27de5e4",
   "metadata": {
    "ExecuteTime": {
     "start_time": "2023-09-21T20:01:32.858700Z"
    },
    "collapsed": false,
    "is_executing": true
   },
   "outputs": [
    {
     "name": "stdout",
     "output_type": "stream",
     "text": [
      "Epoch 1/100\n",
      "WARNING:tensorflow:AutoGraph could not transform <bound method MulticlassF1.update_state of <__main__.MulticlassF1 object at 0x7ff0885185b0>> and will run it as-is.\n",
      "Cause: mangled names are not yet supported\n",
      "To silence this warning, decorate the function with @tf.autograph.experimental.do_not_convert\n",
      "WARNING: AutoGraph could not transform <bound method MulticlassF1.update_state of <__main__.MulticlassF1 object at 0x7ff0885185b0>> and will run it as-is.\n",
      "Cause: mangled names are not yet supported\n",
      "To silence this warning, decorate the function with @tf.autograph.experimental.do_not_convert\n",
      "WARNING:tensorflow:AutoGraph could not transform <bound method MulticlassF1.result of <__main__.MulticlassF1 object at 0x7ff0885185b0>> and will run it as-is.\n",
      "Cause: mangled names are not yet supported\n",
      "To silence this warning, decorate the function with @tf.autograph.experimental.do_not_convert\n",
      "WARNING: AutoGraph could not transform <bound method MulticlassF1.result of <__main__.MulticlassF1 object at 0x7ff0885185b0>> and will run it as-is.\n",
      "Cause: mangled names are not yet supported\n",
      "To silence this warning, decorate the function with @tf.autograph.experimental.do_not_convert\n",
      "261/263 [============================>.] - ETA: 0s - loss: 1.2537 - auc: 0.7551 - mc_f1: 0.4656tf.Tensor(0.46948242, shape=(), dtype=float32)\n",
      "1052/1052 [==============================] - 8s 7ms/step\n",
      "0.46948242 0.0\n",
      "Evaluation result: [5.5358500480651855, 0.6588590741157532, 0.0]\n",
      "263/263 [==============================] - 28s 90ms/step - loss: 1.2546 - auc: 0.7537 - mc_f1: 0.4697\n",
      "Epoch 2/100\n",
      "263/263 [==============================] - ETA: 0s - loss: 1.1578 - auc: 0.7621 - mc_f1: 0.5405tf.Tensor(0.5410156, shape=(), dtype=float32)\n",
      "1052/1052 [==============================] - 7s 7ms/step\n",
      "0.5410156 0.0\n",
      "Evaluation result: [1.1089696884155273, 0.8319559097290039, 0.0]\n",
      "263/263 [==============================] - 22s 85ms/step - loss: 1.1578 - auc: 0.7621 - mc_f1: 0.5405\n",
      "Epoch 3/100\n",
      "262/263 [============================>.] - ETA: 0s - loss: 0.8952 - auc: 0.8198 - mc_f1: 0.6748tf.Tensor(0.6777344, shape=(), dtype=float32)\n",
      "1052/1052 [==============================] - 7s 7ms/step\n",
      "0.6777344 0.0\n",
      "Evaluation result: [2.8380610942840576, 0.6926671266555786, 0.0]\n",
      "263/263 [==============================] - 22s 84ms/step - loss: 0.8929 - auc: 0.8203 - mc_f1: 0.6777\n",
      "Epoch 4/100\n",
      "261/263 [============================>.] - ETA: 0s - loss: 0.6664 - auc: 0.8726 - mc_f1: 0.7271tf.Tensor(0.7265625, shape=(), dtype=float32)\n",
      "1052/1052 [==============================] - 7s 7ms/step\n",
      "0.7265625 0.16821289\n",
      "Evaluation result: [0.8665351271629333, 0.8627395629882812, 0.168212890625]\n",
      "263/263 [==============================] - 22s 84ms/step - loss: 0.6692 - auc: 0.8717 - mc_f1: 0.7266\n",
      "Epoch 5/100\n",
      "261/263 [============================>.] - ETA: 0s - loss: 0.6143 - auc: 0.8872 - mc_f1: 0.7344tf.Tensor(0.73779297, shape=(), dtype=float32)\n",
      "1052/1052 [==============================] - 7s 7ms/step\n",
      "0.73779297 0.0\n"
     ]
    }
   ],
   "source": [
    "deb_callback = DebugCallback(resnet50, image_data_generator)\n",
    "deb_metric_callback = DebugMetricCallback(image_data_generator, mcf1)\n",
    "\n",
    "resnet50.fit(\n",
    "    image_data_generator,\n",
    "    epochs=100,\n",
    "    batch_size=128,\n",
    "    # verbose=0,\n",
    "    shuffle=False,\n",
    "    callbacks=[deb_metric_callback],\n",
    ")"
   ]
  }
 ],
 "metadata": {
  "kernelspec": {
   "display_name": "Python 3",
   "language": "python",
   "name": "python3"
  },
  "language_info": {
   "codemirror_mode": {
    "name": "ipython",
    "version": 2
   },
   "file_extension": ".py",
   "mimetype": "text/x-python",
   "name": "python",
   "nbconvert_exporter": "python",
   "pygments_lexer": "ipython2",
   "version": "2.7.6"
  }
 },
 "nbformat": 4,
 "nbformat_minor": 5
}
